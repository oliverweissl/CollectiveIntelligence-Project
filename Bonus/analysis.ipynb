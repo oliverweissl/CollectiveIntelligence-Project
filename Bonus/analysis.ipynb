{
 "cells": [
  {
   "cell_type": "code",
   "execution_count": 9,
   "id": "076c8a20",
   "metadata": {},
   "outputs": [],
   "source": [
    "import numpy as n\n",
    "import polars as pl\n",
    "from matplotlib import pyplot as plt\n",
    "import math\n",
    "from tqdm import tqdm\n",
    "import glob\n",
    "\n",
    "plt.style.use(\"dark_background\")"
   ]
  },
  {
   "cell_type": "code",
   "execution_count": 12,
   "id": "6fe22818",
   "metadata": {},
   "outputs": [],
   "source": [
    "def plot_df(df_path, type = \"csv\"):\n",
    "    df = pl.read_csv(df_path) if type == \"csv\" else pl.read_parquet(df_path)\n",
    "    q = (df.groupby(\"frame\").agg(\n",
    "                    [\n",
    "                            (pl.col(\"fox\") == 1).sum().alias(\"fox\"),\n",
    "                            (pl.col(\"fox\") == 0).sum().alias(\"rabbit\")\n",
    "\n",
    "                    ]).sort(\"frame\"))\n",
    "    fig, ax = plt.subplots()\n",
    "    ax.set_title(df_path)\n",
    "    ax.plot(q[\"fox\"].to_list())\n",
    "    ax.plot(q[\"rabbit\"].to_list())\n",
    "    ax.legend([\"foxes\",\"rabbits\"])\n",
    "    ax.set_ylabel(\"Number of Individuals\")\n",
    "    ax.set_xlabel(\"Frames\")\n",
    "    ax.set_yscale(\"log\")"
   ]
  },
  {
   "cell_type": "code",
   "execution_count": 13,
   "id": "b9433d25",
   "metadata": {},
   "outputs": [],
   "source": [
    "dfs = glob.glob(\"*.csv\")\n",
    "pqt = glob.glob(\"*.pqt\")\n",
    "\n",
    "for df in dfs:\n",
    "    plot_df(df,\"csv\")\n",
    "for pq in pqt:\n",
    "    plot_df(pqt,\"pqt\")"
   ]
  },
  {
   "cell_type": "code",
   "execution_count": null,
   "id": "34d98474",
   "metadata": {},
   "outputs": [],
   "source": []
  },
  {
   "cell_type": "code",
   "execution_count": null,
   "id": "863dc2ce",
   "metadata": {},
   "outputs": [],
   "source": []
  }
 ],
 "metadata": {
  "kernelspec": {
   "display_name": "Python 3 (ipykernel)",
   "language": "python",
   "name": "python3"
  },
  "language_info": {
   "codemirror_mode": {
    "name": "ipython",
    "version": 3
   },
   "file_extension": ".py",
   "mimetype": "text/x-python",
   "name": "python",
   "nbconvert_exporter": "python",
   "pygments_lexer": "ipython3",
   "version": "3.10.2"
  }
 },
 "nbformat": 4,
 "nbformat_minor": 5
}
