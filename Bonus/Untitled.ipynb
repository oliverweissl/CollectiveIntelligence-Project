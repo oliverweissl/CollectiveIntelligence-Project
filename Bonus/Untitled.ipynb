{
 "cells": [
  {
   "cell_type": "code",
   "execution_count": 1,
   "id": "b6802a4f",
   "metadata": {},
   "outputs": [],
   "source": [
    "from PIL import Image\n",
    "import os\n",
    "import PIL\n",
    "import glob"
   ]
  },
  {
   "cell_type": "code",
   "execution_count": 3,
   "id": "c9b11274",
   "metadata": {},
   "outputs": [],
   "source": [
    "image = Image.open(\"images\\white.png\")"
   ]
  },
  {
   "cell_type": "code",
   "execution_count": 4,
   "id": "7e150cad",
   "metadata": {},
   "outputs": [
    {
     "name": "stdout",
     "output_type": "stream",
     "text": [
      "(8, 8)\n"
     ]
    }
   ],
   "source": [
    "print(image.size)"
   ]
  },
  {
   "cell_type": "code",
   "execution_count": 9,
   "id": "5b2192b2",
   "metadata": {},
   "outputs": [],
   "source": [
    "im_sz = image.size\n",
    "size = list(range(5,15))\n",
    "\n",
    "for i,s in enumerate(size):\n",
    "    multip = s/10\n",
    "    rz_image = image.resize((int(im_sz[0]*multip),int(im_sz[0]*multip)))\n",
    "    rz_image.save(f\"images\\white_{i}.png\")"
   ]
  },
  {
   "cell_type": "code",
   "execution_count": 7,
   "id": "c265c6fc",
   "metadata": {},
   "outputs": [
    {
     "name": "stdout",
     "output_type": "stream",
     "text": [
      "[5, 6, 7, 8, 9, 10, 11, 12, 13, 14]\n"
     ]
    }
   ],
   "source": [
    "print(size)"
   ]
  },
  {
   "cell_type": "code",
   "execution_count": null,
   "id": "644b9df5",
   "metadata": {},
   "outputs": [],
   "source": []
  }
 ],
 "metadata": {
  "kernelspec": {
   "display_name": "Python 3 (ipykernel)",
   "language": "python",
   "name": "python3"
  },
  "language_info": {
   "codemirror_mode": {
    "name": "ipython",
    "version": 3
   },
   "file_extension": ".py",
   "mimetype": "text/x-python",
   "name": "python",
   "nbconvert_exporter": "python",
   "pygments_lexer": "ipython3",
   "version": "3.10.2"
  }
 },
 "nbformat": 4,
 "nbformat_minor": 5
}
