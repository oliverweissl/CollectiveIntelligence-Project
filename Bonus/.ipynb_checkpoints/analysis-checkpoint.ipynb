{
 "cells": [
  {
   "cell_type": "code",
   "execution_count": 9,
   "id": "076c8a20",
   "metadata": {},
   "outputs": [],
   "source": [
    "import numpy as n\n",
    "import polars as pl\n",
    "from matplotlib import pyplot as plt\n",
    "import math\n",
    "from tqdm import tqdm\n",
    "import glob\n",
    "\n",
    "plt.style.use(\"dark_background\")"
   ]
  },
  {
   "cell_type": "code",
   "execution_count": 14,
   "id": "6fe22818",
   "metadata": {},
   "outputs": [],
   "source": [
    "def plot_df(df_path, type = \"csv\"):\n",
    "    df = pl.read_csv(df_path) if type == \"csv\" else pl.read_parquet(df_path)\n",
    "    q = (df.groupby(\"frame\").agg(\n",
    "                    [\n",
    "                            (pl.col(\"fox\") == 1).sum().alias(\"fox\"),\n",
    "                            (pl.col(\"fox\") == 0).sum().alias(\"rabbit\")\n",
    "\n",
    "                    ]).sort(\"frame\"))\n",
    "    fig, ax = plt.subplots(2)\n",
    "    ax.set_title(df_path)\n",
    "    \n",
    "    fl = q[\"fox\"].to_list()\n",
    "    rl = q[\"rabbit\"].to_list()\n",
    "    \n",
    "    ax[0].plot(fl)\n",
    "    ax[0].plot(rl)\n",
    "    ax[0].plot(np.absolute(fl/rl))\n",
    "    ax[0].legend([\"foxes\",\"rabbits\",\"average\"])\n",
    "    ax[0].set_ylabel(\"Number of Individuals\")\n",
    "    ax[0].set_xlabel(\"Frames\")\n",
    "    ax[0].set_yscale(\"log\")\n",
    "    \n",
    "    data = [{'x': x, 'y': y} for x, y in zip(fl, rl)]\n",
    "    ax[1].plot(fl)\n",
    "    ax[1].set_ylabel(\"Rabbits\")\n",
    "    ax[1].set_xlabel(\"Foxes\")\n",
    "\n",
    "    \n",
    "    \n",
    "    "
   ]
  },
  {
   "cell_type": "code",
   "execution_count": 15,
   "id": "b9433d25",
   "metadata": {},
   "outputs": [],
   "source": [
    "dfs = glob.glob(\"*.csv\")\n",
    "pqt = glob.glob(\"*.pqt\")\n",
    "\n",
    "for df in dfs:\n",
    "    plot_df(df,\"csv\")\n",
    "for pq in pqt:\n",
    "    plot_df(pqt,\"pqt\")"
   ]
  },
  {
   "cell_type": "code",
   "execution_count": null,
   "id": "34d98474",
   "metadata": {},
   "outputs": [],
   "source": []
  },
  {
   "cell_type": "code",
   "execution_count": null,
   "id": "863dc2ce",
   "metadata": {},
   "outputs": [],
   "source": []
  }
 ],
 "metadata": {
  "kernelspec": {
   "display_name": "Python 3 (ipykernel)",
   "language": "python",
   "name": "python3"
  },
  "language_info": {
   "codemirror_mode": {
    "name": "ipython",
    "version": 3
   },
   "file_extension": ".py",
   "mimetype": "text/x-python",
   "name": "python",
   "nbconvert_exporter": "python",
   "pygments_lexer": "ipython3",
   "version": "3.10.2"
  }
 },
 "nbformat": 4,
 "nbformat_minor": 5
}
