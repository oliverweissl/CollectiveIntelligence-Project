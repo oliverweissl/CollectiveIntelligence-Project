{
 "cells": [
  {
   "cell_type": "code",
   "execution_count": 170,
   "id": "e66d66b1",
   "metadata": {},
   "outputs": [],
   "source": [
    "import numpy as np\n",
    "from tqdm import tqdm\n",
    "from matplotlib import pyplot as plt\n",
    "import pandas as pd\n",
    "from sklearn.neighbors import KernelDensity\n",
    "from sklearn.cluster import KMeans\n",
    "from sklearn.metrics import silhouette_score"
   ]
  },
  {
   "cell_type": "code",
   "execution_count": 3,
   "id": "cc9c7a9c",
   "metadata": {},
   "outputs": [],
   "source": [
    "df = pd.read_csv(\"A0.75_C0.40_S0.40_W0.50.csv\")"
   ]
  },
  {
   "cell_type": "code",
   "execution_count": 4,
   "id": "d9c87150",
   "metadata": {},
   "outputs": [
    {
     "name": "stdout",
     "output_type": "stream",
     "text": [
      "       frame  id    x    y  image_index  angle\n",
      "0          0   0  638  575            0   -138\n",
      "1          0   1  371  340            0   -182\n",
      "2          0   2  590   68            0     35\n",
      "3          0   3  630  325            0   -100\n",
      "4          0   4  541  169            0     -4\n",
      "...      ...  ..  ...  ...          ...    ...\n",
      "30045    600  45  319  742            1   -182\n",
      "30046    600  46  159  559            1    -90\n",
      "30047    600  47  535  561            1   -232\n",
      "30048    600  48   69  518            1    -74\n",
      "30049    600  49  555  566            1   -234\n",
      "\n",
      "[30050 rows x 6 columns]\n"
     ]
    }
   ],
   "source": [
    "print(df)"
   ]
  },
  {
   "cell_type": "code",
   "execution_count": null,
   "id": "36a4516a",
   "metadata": {},
   "outputs": [
    {
     "name": "stderr",
     "output_type": "stream",
     "text": [
      " 40%|███████████████████████████████▊                                                | 239/600 [12:39<18:47,  3.12s/it]"
     ]
    }
   ],
   "source": [
    "in_flocks = []\n",
    "angles = []\n",
    "clusters = []\n",
    "\n",
    "for frame in tqdm(range(max(df[\"frame\"]))):\n",
    "    in_flocks.append(df[\"image_index\"][(df[\"frame\"]==frame) & (df[\"image_index\"]==1)].count())\n",
    "    \n",
    "    angle = np.array(list(df[\"angle\"][df[\"frame\"]==frame])).reshape(-1, 1)\n",
    "    angles.append(angle)\n",
    "    \n",
    "    scores = []\n",
    "    ds = df[[\"x\",\"y\"]][df[\"frame\"]==frame].to_numpy()\n",
    "    for k in range(2, 50):\n",
    "        model = KMeans(n_clusters=k)\n",
    "        model.fit(ds)\n",
    "        pred = model.predict(ds)\n",
    "        scores.append(silhouette_score(ds, pred))\n",
    "    clusters.append(np.argmax(scores)+2)\n",
    "    \n",
    "    "
   ]
  },
  {
   "cell_type": "code",
   "execution_count": null,
   "id": "ba8b14b9",
   "metadata": {},
   "outputs": [],
   "source": [
    "fig, ax = plt.subplots()\n",
    "\n",
    "ax.vlines(162,-1,2,colors = \"r\")\n",
    "ax.vlines(337,-1,2,colors = \"r\")\n",
    "ax.vlines(446,-1,2,colors = \"r\")\n",
    "\n",
    "ax.plot(range(max(df[\"frame\"])),[x/50 for x in in_flocks])\n",
    "\n",
    "ax.set_title(\"Percentage of Birds in a Flock over Time\")\n",
    "ax.set_ylabel(\"Percentahe of birds in a flock\")\n",
    "ax.set_xlabel(\"Frame\")\n",
    "\n",
    "plt.ylim([0,1])"
   ]
  },
  {
   "cell_type": "code",
   "execution_count": null,
   "id": "a031f6ae",
   "metadata": {},
   "outputs": [],
   "source": [
    "def moving_average(x, n=10) :\n",
    "    ret = np.cumsum(x, dtype=float)\n",
    "    ret[n:] = ret[n:] - ret[:-n]\n",
    "    return ret[n - 1:] / n"
   ]
  },
  {
   "cell_type": "code",
   "execution_count": null,
   "id": "3637be83",
   "metadata": {},
   "outputs": [],
   "source": [
    "fig, ax = plt.subplots()\n",
    "ax.vlines(162,-2,22,colors = \"r\")\n",
    "ax.vlines(337,-1,22,colors = \"r\")\n",
    "ax.vlines(446,-1,22,colors = \"r\")\n",
    "\n",
    "\n",
    "ax.plot(range(max(df[\"frame\"])),moving_average(clusters,n = 60) ,color = \"g\")\n",
    "ax.plot(range(max(df[\"frame\"])),moving_average(clusters), color = \"b\")\n",
    "ax.plot(range(max(df[\"frame\"])),clusters)\n",
    "ax.set_title(\"Clusters per Frame\")\n",
    "ax.set_ylabel(\"Amount of Clusters\")\n",
    "ax.set_xlabel(\"Frame\")\n",
    "\n",
    "\n",
    "plt.ylim([2,20])"
   ]
  },
  {
   "cell_type": "code",
   "execution_count": null,
   "id": "cdfbb76a",
   "metadata": {},
   "outputs": [],
   "source": []
  },
  {
   "cell_type": "code",
   "execution_count": null,
   "id": "5e28bd27",
   "metadata": {},
   "outputs": [],
   "source": []
  }
 ],
 "metadata": {
  "kernelspec": {
   "display_name": "Python 3 (ipykernel)",
   "language": "python",
   "name": "python3"
  },
  "language_info": {
   "codemirror_mode": {
    "name": "ipython",
    "version": 3
   },
   "file_extension": ".py",
   "mimetype": "text/x-python",
   "name": "python",
   "nbconvert_exporter": "python",
   "pygments_lexer": "ipython3",
   "version": "3.10.2"
  }
 },
 "nbformat": 4,
 "nbformat_minor": 5
}
