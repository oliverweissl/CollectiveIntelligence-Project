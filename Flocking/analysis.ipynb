{
 "cells": [
  {
   "cell_type": "code",
   "execution_count": 275,
   "id": "17521d0c",
   "metadata": {},
   "outputs": [],
   "source": [
    "import numpy as np\n",
    "from tqdm import tqdm\n",
    "from matplotlib import pyplot as plt\n",
    "import pandas as pd\n",
    "from sklearn.neighbors import KernelDensity\n",
    "from sklearn.cluster import KMeans\n",
    "from sklearn.metrics import silhouette_score\n",
    "import glob"
   ]
  },
  {
   "cell_type": "code",
   "execution_count": 276,
   "id": "e4ca8b03",
   "metadata": {},
   "outputs": [],
   "source": [
    "def extract(df):\n",
    "    in_flocks = []\n",
    "    angles = []\n",
    "    \n",
    "    for frame in range(max(df[\"frame\"])):\n",
    "        in_flocks.append(df[\"image_index\"][(df[\"frame\"]==frame) & (df[\"image_index\"]==1)].count())\n",
    "\n",
    "        angle = np.array(list(df[\"angle\"][df[\"frame\"]==frame])).reshape(-1, 1)\n",
    "        angles.append(angle)\n",
    "        \n",
    "    return in_flocks, angles\n",
    "\n",
    "\n",
    "def extract_cluster(df):\n",
    "    clusters = []\n",
    "    \n",
    "    for frame in tqdm(range(max(df[\"frame\"]))):\n",
    "        scores = []\n",
    "        ds = df[[\"x\",\"y\"]][df[\"frame\"]==frame].to_numpy()\n",
    "        for k in range(2, 50):\n",
    "            model = KMeans(n_clusters=k)\n",
    "            model.fit(ds)\n",
    "            pred = model.predict(ds)\n",
    "            scores.append(silhouette_score(ds, pred))\n",
    "        clusters.append(np.argmax(scores)+2)\n",
    "        \n",
    "    return clusters\n",
    "\n"
   ]
  },
  {
   "cell_type": "code",
   "execution_count": 277,
   "id": "f41eca91",
   "metadata": {},
   "outputs": [],
   "source": [
    "def plot_flock_p(in_flocks, name,r = 600):\n",
    "    fig, ax = plt.subplots()\n",
    "\n",
    "    #ax.vlines(162,-1,2,colors = \"r\")\n",
    "    #ax.vlines(337,-1,2,colors = \"r\")\n",
    "    #ax.vlines(446,-1,2,colors = \"r\")\n",
    "\n",
    "    ax.plot(range(r),[x/50 for x in in_flocks])\n",
    "\n",
    "    ax.set_title(\"Percentage of Birds in a Flock over Time\")\n",
    "    ax.set_ylabel(\"Percentahe of birds in a flock\")\n",
    "    ax.set_xlabel(\"Frame\")\n",
    "    plt.ylim([0,1])\n",
    "    \n",
    "    plt.savefig(f\"plots/flock_{name}.png\")"
   ]
  },
  {
   "cell_type": "code",
   "execution_count": 278,
   "id": "dc016b8d",
   "metadata": {},
   "outputs": [],
   "source": [
    "def moving_average(x, n=10, or_dim = 600) :\n",
    "    ret = np.cumsum(x, dtype=float)\n",
    "    ret[n:] = ret[n:] - ret[:-n]\n",
    "    add = 600-len(ret[n - 1:]) if len(ret[n - 1:])<or_dim else 0\n",
    "    ins = [0]*add\n",
    "    fin = np.concatenate((np.array(ins),ret[n - 1:]),axis = None)\n",
    "    return fin / n"
   ]
  },
  {
   "cell_type": "code",
   "execution_count": 279,
   "id": "9be46cf5",
   "metadata": {},
   "outputs": [],
   "source": [
    "def plot_cluster(clusters,r = 600):\n",
    "    \n",
    "    fig, ax = plt.subplots()\n",
    "    m = max(clusters)\n",
    "    #ax.vlines(162,-2,m+2,colors = \"r\")\n",
    "    #ax.vlines(337,-1,m+2,colors = \"r\")\n",
    "    #ax.vlines(446,-1,m+2,colors = \"r\")\n",
    "\n",
    "\n",
    "    \n",
    "    ax.plot(range(r),moving_average(np.array(clusters),n = 60) ,color = \"g\")\n",
    "    ax.plot(range(r),moving_average(np.array(clusters)), color = \"purple\")\n",
    "    ax.plot(range(r),np.array(clusters))\n",
    "    \n",
    "    ax.set_title(\"Clusters per Frame\")\n",
    "    ax.set_ylabel(\"Amount of Clusters\")\n",
    "    ax.set_xlabel(\"Frame\")\n",
    "\n",
    "    plt.ylim([2,m])\n",
    "    plt.savefig(f\"plots/cluster_{name}.png\")\n"
   ]
  },
  {
   "cell_type": "code",
   "execution_count": null,
   "id": "afa94a79",
   "metadata": {},
   "outputs": [
    {
     "name": "stderr",
     "output_type": "stream",
     "text": [
      "100%|██████████████████████████████████████████████████████████████████████████████████| 13/13 [00:06<00:00,  2.02it/s]\n"
     ]
    },
    {
     "name": "stdout",
     "output_type": "stream",
     "text": [
      "[24.268333333333334, 22.565, 23.566666666666666, 24.571666666666665, 2.1333333333333333, 22.426666666666666, 26.44, 21.988333333333333, 25.60333333333333, 27.783333333333335, 26.385, 28.97833333333333, 25.703333333333333]\n"
     ]
    },
    {
     "name": "stderr",
     "output_type": "stream",
     "text": [
      "  4%|███                                                                              | 23/600 [01:14<30:51,  3.21s/it]"
     ]
    }
   ],
   "source": [
    "experiments = glob.glob(\"Experiments/*.csv\")\n",
    "score = []\n",
    "for ex in tqdm(experiments):\n",
    "    name = ex[12:-4]\n",
    "    df = pd.read_csv(ex)\n",
    "    \n",
    "    in_flocks, angles = extract(df)\n",
    "    score.append(np.average(in_flocks))\n",
    "    plot_flock_p(in_flocks, name,max(df[\"frame\"]))\n",
    "    \n",
    "i = np.argmax(score)\n",
    "max_s = pd.read_csv(experiments[i])\n",
    "clusters = extract_cluster(max_s)\n",
    "plot_cluster(clusters,max(max_s[\"frame\"]))\n",
    "    \n",
    "    "
   ]
  },
  {
   "cell_type": "code",
   "execution_count": null,
   "id": "21e9276f",
   "metadata": {},
   "outputs": [],
   "source": []
  },
  {
   "cell_type": "code",
   "execution_count": null,
   "id": "615160d5",
   "metadata": {},
   "outputs": [],
   "source": []
  }
 ],
 "metadata": {
  "kernelspec": {
   "display_name": "Python 3 (ipykernel)",
   "language": "python",
   "name": "python3"
  },
  "language_info": {
   "codemirror_mode": {
    "name": "ipython",
    "version": 3
   },
   "file_extension": ".py",
   "mimetype": "text/x-python",
   "name": "python",
   "nbconvert_exporter": "python",
   "pygments_lexer": "ipython3",
   "version": "3.10.2"
  }
 },
 "nbformat": 4,
 "nbformat_minor": 5
}
